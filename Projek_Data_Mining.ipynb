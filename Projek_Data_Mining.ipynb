{
  "nbformat": 4,
  "nbformat_minor": 0,
  "metadata": {
    "colab": {
      "provenance": [],
      "include_colab_link": true
    },
    "kernelspec": {
      "name": "python3",
      "display_name": "Python 3"
    },
    "language_info": {
      "name": "python"
    }
  },
  "cells": [
    {
      "cell_type": "markdown",
      "metadata": {
        "id": "view-in-github",
        "colab_type": "text"
      },
      "source": [
        "<a href=\"https://colab.research.google.com/github/Reniindriyani135/Projek-Data-Mining/blob/main/Projek_Data_Mining.ipynb\" target=\"_parent\"><img src=\"https://colab.research.google.com/assets/colab-badge.svg\" alt=\"Open In Colab\"/></a>"
      ]
    },
    {
      "cell_type": "code",
      "source": [
        "import pandas as pd\n",
        "import numpy as np\n",
        "from sklearn.preprocessing import StandardScaler\n",
        "from sklearn.cluster import KMeans\n",
        "from sklearn.metrics import pairwise_distances"
      ],
      "metadata": {
        "id": "c7_34RnRymEh"
      },
      "execution_count": null,
      "outputs": []
    },
    {
      "cell_type": "code",
      "source": [
        "# Baca data\n",
        "df = pd.read_excel(\"Data ekspor impor.xlsx\")\n",
        "cols = ['Nilai Ekspor (USD)', 'Berat Ekspor (Kg)', 'Nilai Impor (USD)', 'Berat Impor (Kg)']\n",
        "df[cols] = df[cols].replace(0, np.nan).fillna(df[cols].mean())"
      ],
      "metadata": {
        "id": "m-Xox-j8y2Ox"
      },
      "execution_count": null,
      "outputs": []
    },
    {
      "cell_type": "code",
      "source": [
        "# Normalisasi\n",
        "scaler = StandardScaler()\n",
        "data_scaled = scaler.fit_transform(df[cols])\n",
        "\n",
        "# KMeans\n",
        "kmeans = KMeans(n_clusters=3, random_state=42, n_init=10)\n",
        "kmeans.fit(data_scaled)\n",
        "\n",
        "# Cetak centroid\n",
        "centroids = pd.DataFrame(kmeans.cluster_centers_, columns=df[cols].columns)\n",
        "print(centroids)"
      ],
      "metadata": {
        "colab": {
          "base_uri": "https://localhost:8080/"
        },
        "id": "nIaNFt1zz8z1",
        "outputId": "3764ad97-5c26-45f3-d3bc-99d9d8b0d5b6"
      },
      "execution_count": null,
      "outputs": [
        {
          "output_type": "stream",
          "name": "stdout",
          "text": [
            "   Nilai Ekspor (USD)  Berat Ekspor (Kg)  Nilai Impor (USD)  Berat Impor (Kg)\n",
            "0           -0.223574          -0.110402          -0.207540         -0.106571\n",
            "1            6.542132           9.812163           6.475179          8.876711\n",
            "2            2.300516           0.039070           2.068499          0.136883\n"
          ]
        }
      ]
    },
    {
      "cell_type": "code",
      "source": [
        "# Cetak centroid awal\n",
        "centroids = pd.DataFrame(kmeans.cluster_centers_, columns=df[cols].columns)\n",
        "print(centroids)"
      ],
      "metadata": {
        "colab": {
          "base_uri": "https://localhost:8080/"
        },
        "id": "mRET6NZK0DPy",
        "outputId": "9a2c4979-4da2-483e-d59f-efff29386e38"
      },
      "execution_count": null,
      "outputs": [
        {
          "output_type": "stream",
          "name": "stdout",
          "text": [
            "   Nilai Ekspor (USD)  Berat Ekspor (Kg)  Nilai Impor (USD)  Berat Impor (Kg)\n",
            "0           -0.223574          -0.110402          -0.207540         -0.106571\n",
            "1            6.542132           9.812163           6.475179          8.876711\n",
            "2            2.300516           0.039070           2.068499          0.136883\n"
          ]
        }
      ]
    },
    {
      "cell_type": "code",
      "source": [
        "# Jarak minimum ke centroid\n",
        "from sklearn.metrics import pairwise_distances_argmin_min\n",
        "closest, distances = pairwise_distances_argmin_min(data_scaled, kmeans.cluster_centers_)\n",
        "\n",
        "df_result = pd.DataFrame({\n",
        "    'Komoditas': df['Kode HS dan Deskripsi'],\n",
        "    'Cluster': closest,\n",
        "    'Jarak Minimum ke Centroid': distances\n",
        "})\n",
        "print(df_result.sort_values(by='Cluster').to_string(index=False))"
      ],
      "metadata": {
        "colab": {
          "base_uri": "https://localhost:8080/"
        },
        "id": "uIiaa44W0hZv",
        "outputId": "6849201f-3d09-4ef0-e247-c4bf35d87bde"
      },
      "execution_count": null,
      "outputs": [
        {
          "output_type": "stream",
          "name": "stdout",
          "text": [
            "                                                         Komoditas  Cluster  Jarak Minimum ke Centroid\n",
            "                                               [01] Binatang hidup        0                   0.251471\n",
            "                                                 [02] Daging hewan        0                   0.277106\n",
            "                                 [03] Ikan, krustasea, dan moluska        0                   0.483753\n",
            "                                     [04] Susu, mentega, dan telur        0                   0.165447\n",
            "                                                [05] Produk hewani        0                   0.293659\n",
            "                                 [06] Pohon hidup dan bunga potong        0                   0.307707\n",
            "                                                      [07] Sayuran        0                   0.261820\n",
            "                                                  [08] Buah-buahan        0                   0.099735\n",
            "                                 [09] Kopi, teh, dan rempah-rempah        0                   0.373855\n",
            "                                                     [10] Serealia        0                   1.552314\n",
            "                                           [11] Hasil penggilingan        0                   0.223928\n",
            "                              [12] Biji dan buah mengandung minyak        0                   0.318285\n",
            "                                        [13] Lak, getah, dan damar        0                   0.285774\n",
            "                                         [14] Bahan anyaman nabati        0                   0.276870\n",
            "             [16] Olahan dari daging, ikan, krustasea, dan moluska        0                   0.241859\n",
            "                                        [17] Gula dan kembang gula        0                   0.432302\n",
            "                             [25] Garam, belerang, batu, dan semen        0                   1.704081\n",
            "                                          [18] Kakao dan olahannya        0                   0.540923\n",
            "                                           [19] Olahan dari tepung        0                   0.190576\n",
            "                        [20] Olahan dari sayuran, buah, dan kacang        0                   0.233374\n",
            "                                      [21] Berbagai makanan olahan        0                   0.167512\n",
            "                                   [22] Minuman, alkohol, dan cuka        0                   0.250410\n",
            "                              [23] Ampas dan sisa industri makanan        0                   0.824444\n",
            "                                           [24] Tembakau dan rokok        0                   0.225899\n",
            "                                                        [31] Pupuk        0                   0.765723\n",
            "                                  [26] Bijih logam, terak, dan abu        0                   2.696169\n",
            "                                        [28] Bahan kimia anorganik        0                   1.068453\n",
            "                                          [29] Bahan kimia organik        0                   1.175449\n",
            "                                   [32] Sari bahan samak dan celup        0                   0.169202\n",
            "                                               [30] Produk farmasi        0                   0.175807\n",
            "                                 [34] Sabun dan preparat pembersih        0                   0.146235\n",
            "                       [33] Minyak atsiri, wewangian, dan kosmetik        0                   0.173124\n",
            "                                   [49] Produk industri percetakan        0                   0.290495\n",
            "                                                        [50] Sutra        0                   0.310633\n",
            "                                            [35] Perekat dan enzim        0                   0.239586\n",
            "                    [36] Bahan peledak, korek api, dan kembang api        0                   0.304059\n",
            "                          [37] Barang fotografi atau sinematografi        0                   0.305062\n",
            "                                        [38] Berbagai produk kimia        0                   1.281171\n",
            "                              [39] Plastik dan barang dari plastik        0                   1.576285\n",
            "                                  [40] Karet dan barang dari karet        0                   0.787281\n",
            "                                [41] Jangat dan kulit mentah/samak        0                   0.254194\n",
            "                                      [42] Barang dari kulit samak        0                   0.203034\n",
            "           [43] Kulit berbulu, bulu tiruan, dan barang daripadanya        0                   0.310343\n",
            "                                    [44] Kayu dan barang dari kayu        0                   0.552436\n",
            "                                  [45] Gabus dan barang dari gabus        0                   0.310336\n",
            "                                               [46] Barang anyaman        0                   0.301719\n",
            "                                               [47] Pulp dari kayu        0                   0.503861\n",
            "                       [48] Kertas, karton, dan barang daripadanya        0                   0.485215\n",
            "                    [57] Karpet dan tekstil penutup lantai lainnya        0                   0.305511\n",
            "                                          [58] Kain tenunan khusus        0                   0.281776\n",
            "                             [51] Wol, bulu hewan halus atau kasar        0                   0.305100\n",
            "                                                        [52] Kapas        0                   0.156216\n",
            "                                 [53] Serat tekstil nabati lainnya        0                   0.304233\n",
            "                                               [54] Filamen buatan        0                   0.151901\n",
            "                                          [55] Serat stapel buatan        0                   0.146788\n",
            "                 [56] Kain kempa, benang khusus, dan benang pintal        0                   0.239386\n",
            "                            [61] Pakaian dan aksesorinya (rajutan)        0                   0.489885\n",
            "                      [62] Pakaian dan aksesorinya (bukan rajutan)        0                   0.571107\n",
            "                        [59] Kain tekstil dilapisi atau dilaminasi        0                   0.243860\n",
            "                                                 [60] Kain rajutan        0                   0.223664\n",
            "                                  [63] Barang tekstil jadi lainnya        0                   0.290862\n",
            "                                                    [64] Alas kaki        0                   0.901913\n",
            "                               [66] Payung, tongkat, dan bagiannya        0                   0.307502\n",
            "                                   [65] Tutup kepala dan bagiannya        0                   0.298444\n",
            "                        [94] Perabotan, lampu, dan alat penerangan        0                   0.256302\n",
            "                     [95] Mainan, permainan dan keperluan olahraga        0                   0.182974\n",
            "           [67] Barang dari bulu unggas, bunga artifisial, dan wig        0                   0.287756\n",
            "                    [68] Barang dari batu, semen, asbes, atau mika        0                   0.217512\n",
            "                                               [69] Produk keramik        0                   0.171093\n",
            "                                    [70] Kaca dan barang dari kaca        0                   0.184702\n",
            "                               [74] Tembaga dan barang daripadanya        0                   0.391031\n",
            "                                    [73] Barang dari besi dan baja        0                   0.587035\n",
            "                                [78] Timbal dan barang daripadanya        0                   0.293556\n",
            "                                  [79] Seng dan barang daripadanya        0                   0.255431\n",
            "                                 [75] Nikel dan barang daripadanya        0                   0.836328\n",
            "                             [76] Aluminium dan barang daripadanya        0                   0.195445\n",
            "                                 [80] Timah dan barang daripadanya        0                   0.247840\n",
            "                                    [81] Logam tidak mulia lainnya        0                   0.286294\n",
            "                            [83] Berbagai barang logam tidak mulia        0                   0.220543\n",
            "                [82] Perkakas dan peralatan dari logam tidak mulia        0                   0.236669\n",
            "                [97] Karya seni, barang kolektor, dan barang antik        0                   0.309839\n",
            "                          [93] Senjata dan amunisi serta bagiannya        0                   0.298782\n",
            "                                [88] Kendaraan udara dan bagiannya        0                   0.269964\n",
            "                              [86] Kereta api, trem, dan bagiannya        0                   0.273768\n",
            "                         [89] Kapal, perahu, dan struktur terapung        0                   0.205138\n",
            "                                [92] Instrumen musik dan bagiannya        0                   0.249605\n",
            "                               [91] Jam dan arloji serta bagiannya        0                   0.271580\n",
            "         [90] Instrumen optik, fotografi, sinematografi, dan medis        0                   0.572868\n",
            "             [99] Piranti lunak, barang digital dan barang kiriman        0                   0.249289\n",
            "[98] Kendaraan bermotor dan komponennya (terbongkar tidak lengkap)        0                   0.251787\n",
            "                                [96] Berbagai barang buatan pabrik        0                   0.224742\n",
            "                                          [27] Bahan bakar mineral        1                   0.000000\n",
            "                               [15] Lemak dan minyak hewani/nabati        2                   3.634363\n",
            "                                      [87] Kendaraan dan bagiannya        2                   1.183746\n",
            "                            [71] Logam mulia dan perhiasan/permata        2                   1.541288\n",
            "                                                [72] Besi dan baja        2                   1.733016\n",
            "              [85] Mesin dan perlengkapan elektrik serta bagiannya        2                   2.298110\n",
            "                  [84] Mesin dan peralatan mekanis serta bagiannya        2                   2.977664\n"
          ]
        }
      ]
    },
    {
      "cell_type": "code",
      "source": [
        "# Jarak minimum ke centroid\n",
        "closest, distances = pairwise_distances_argmin_min(data_scaled, kmeans.cluster_centers_)"
      ],
      "metadata": {
        "id": "yS7_riyI0NyM"
      },
      "execution_count": null,
      "outputs": []
    },
    {
      "cell_type": "code",
      "source": [
        "# Normalisasi\n",
        "scaler = StandardScaler()\n",
        "data_scaled = scaler.fit_transform(df[cols])"
      ],
      "metadata": {
        "id": "17aK4hhIy6is"
      },
      "execution_count": null,
      "outputs": []
    },
    {
      "cell_type": "code",
      "source": [
        "# KMeans\n",
        "kmeans = KMeans(n_clusters=3, random_state=42, n_init=10)\n",
        "kmeans.fit(data_scaled)\n",
        "centroids = kmeans.cluster_centers_"
      ],
      "metadata": {
        "id": "9LcMTSYFy9jZ"
      },
      "execution_count": null,
      "outputs": []
    },
    {
      "cell_type": "code",
      "source": [
        "# Euclidean & Manhattan distance\n",
        "eu_dist = pairwise_distances(data_scaled, centroids, metric='euclidean')\n",
        "man_dist = pairwise_distances(data_scaled, centroids, metric='manhattan')"
      ],
      "metadata": {
        "id": "mAwhhbLIzB8W"
      },
      "execution_count": null,
      "outputs": []
    },
    {
      "cell_type": "code",
      "source": [
        "# Buat tabel 3 (Jarak Euclidean)\n",
        "eu_df = pd.DataFrame(eu_dist, columns=['Cluster1', 'Cluster2', 'Cluster3'])\n",
        "eu_df['Jarak Minimal'] = eu_df.min(axis=1)\n",
        "eu_df['Kluster'] = eu_df[['Cluster1', 'Cluster2', 'Cluster3']].idxmin(axis=1)\n",
        "eu_df.insert(0, 'Komoditas', df['Kode HS dan Deskripsi'])\n",
        "print(\"=== Tabel 3: Euclidean Distance ===\")\n",
        "print(eu_df.head(15))"
      ],
      "metadata": {
        "colab": {
          "base_uri": "https://localhost:8080/"
        },
        "id": "g2JEM_7kzIsQ",
        "outputId": "0bb7d84e-3bc5-45c2-f47d-6de11e2661bc"
      },
      "execution_count": null,
      "outputs": [
        {
          "output_type": "stream",
          "name": "stdout",
          "text": [
            "=== Tabel 3: Euclidean Distance ===\n",
            "                               Komoditas  Cluster1   Cluster2  Cluster3  \\\n",
            "0                    [01] Binatang hidup  0.251471  16.623441  3.623965   \n",
            "1                      [02] Daging hewan  0.277106  16.647619  3.655231   \n",
            "2      [03] Ikan, krustasea, dan moluska  0.483753  16.386683  3.219438   \n",
            "3          [04] Susu, mentega, dan telur  0.165447  16.491295  3.437464   \n",
            "4                     [05] Produk hewani  0.293659  16.660274  3.674231   \n",
            "5      [06] Pohon hidup dan bunga potong  0.307707  16.671622  3.686263   \n",
            "6                           [07] Sayuran  0.261820  16.633703  3.646303   \n",
            "7                       [08] Buah-buahan  0.099735  16.417912  3.356752   \n",
            "8      [09] Kopi, teh, dan rempah-rempah  0.373855  16.418657  3.272937   \n",
            "9                          [10] Serealia  1.552314  15.549702  3.442079   \n",
            "10               [11] Hasil penggilingan  0.223928  16.588383  3.627799   \n",
            "11  [12] Biji dan buah mengandung minyak  0.318285  16.291620  3.408258   \n",
            "12            [13] Lak, getah, dan damar  0.285774  16.655368  3.660122   \n",
            "13             [14] Bahan anyaman nabati  0.276870  16.570011  3.616285   \n",
            "14   [15] Lemak dan minyak hewani/nabati  5.221778  14.826253  3.634363   \n",
            "\n",
            "    Jarak Minimal   Kluster  \n",
            "0        0.251471  Cluster1  \n",
            "1        0.277106  Cluster1  \n",
            "2        0.483753  Cluster1  \n",
            "3        0.165447  Cluster1  \n",
            "4        0.293659  Cluster1  \n",
            "5        0.307707  Cluster1  \n",
            "6        0.261820  Cluster1  \n",
            "7        0.099735  Cluster1  \n",
            "8        0.373855  Cluster1  \n",
            "9        1.552314  Cluster1  \n",
            "10       0.223928  Cluster1  \n",
            "11       0.318285  Cluster1  \n",
            "12       0.285774  Cluster1  \n",
            "13       0.276870  Cluster1  \n",
            "14       3.634363  Cluster3  \n"
          ]
        }
      ]
    },
    {
      "cell_type": "code",
      "source": [
        "# Buat tabel 4 (Jarak Manhattan)\n",
        "man_df = pd.DataFrame(man_dist, columns=['Cluster1', 'Cluster2', 'Cluster3'])\n",
        "man_df['Jarak Minimal'] = man_df.min(axis=1)\n",
        "man_df['Kluster'] = man_df[['Cluster1', 'Cluster2', 'Cluster3']].idxmin(axis=1)\n",
        "man_df.insert(0, 'Komoditas', df['Kode HS dan Deskripsi'])\n",
        "print(\"\\n=== Tabel 4: Manhattan Distance ===\")\n",
        "print(man_df.head(15))"
      ],
      "metadata": {
        "colab": {
          "base_uri": "https://localhost:8080/"
        },
        "id": "8LljB_llzL_G",
        "outputId": "f5b73c85-ebeb-4ee3-f64d-a60e3b61ebe9"
      },
      "execution_count": null,
      "outputs": [
        {
          "output_type": "stream",
          "name": "stdout",
          "text": [
            "\n",
            "=== Tabel 4: Manhattan Distance ===\n",
            "                               Komoditas  Cluster1   Cluster2  Cluster3  \\\n",
            "0                    [01] Binatang hidup  0.439764  32.794038  5.632820   \n",
            "1                      [02] Daging hewan  0.495598  32.849872  5.688655   \n",
            "2      [03] Ikan, krustasea, dan moluska  0.731718  32.209030  5.047812   \n",
            "3          [04] Susu, mentega, dan telur  0.303444  32.484847  5.323629   \n",
            "4                     [05] Produk hewani  0.525965  32.880239  5.719021   \n",
            "5      [06] Pohon hidup dan bunga potong  0.550708  32.904982  5.743764   \n",
            "6                           [07] Sayuran  0.468128  32.822401  5.661184   \n",
            "7                       [08] Buah-buahan  0.177547  32.331247  5.170029   \n",
            "8      [09] Kopi, teh, dan rempah-rempah  0.590880  32.292991  5.131773   \n",
            "9                          [10] Serealia  2.184942  30.579807  5.822868   \n",
            "10               [11] Hasil penggilingan  0.380775  32.735049  5.573832   \n",
            "11  [12] Biji dan buah mengandung minyak  0.546773  32.109492  4.951153   \n",
            "12            [13] Lak, getah, dan damar  0.512292  32.866566  5.705348   \n",
            "13             [14] Bahan anyaman nabati  0.525039  32.706613  5.545396   \n",
            "14   [15] Lemak dan minyak hewani/nabati  6.025318  26.878097  5.871249   \n",
            "\n",
            "    Jarak Minimal   Kluster  \n",
            "0        0.439764  Cluster1  \n",
            "1        0.495598  Cluster1  \n",
            "2        0.731718  Cluster1  \n",
            "3        0.303444  Cluster1  \n",
            "4        0.525965  Cluster1  \n",
            "5        0.550708  Cluster1  \n",
            "6        0.468128  Cluster1  \n",
            "7        0.177547  Cluster1  \n",
            "8        0.590880  Cluster1  \n",
            "9        2.184942  Cluster1  \n",
            "10       0.380775  Cluster1  \n",
            "11       0.546773  Cluster1  \n",
            "12       0.512292  Cluster1  \n",
            "13       0.525039  Cluster1  \n",
            "14       5.871249  Cluster3  \n"
          ]
        }
      ]
    },
    {
      "cell_type": "code",
      "source": [
        "# Buat tabel 5 (Hasil clustering akhir)\n",
        "cluster_map = {i: nama for i, nama in zip(np.argsort(centroids[:, 0]), ['Rendah', 'Sedang', 'Tinggi'])}\n",
        "df['Cluster'] = kmeans.labels_\n",
        "df['Kategori'] = df['Cluster'].map(cluster_map)\n",
        "final_df = df[['Kode HS dan Deskripsi', 'Cluster', 'Kategori']]\n",
        "print(\"\\n=== Tabel 5: Hasil Cluster Akhir ===\")\n",
        "print(final_df.head(15))"
      ],
      "metadata": {
        "colab": {
          "base_uri": "https://localhost:8080/"
        },
        "id": "xc2ZWDn60_o5",
        "outputId": "e4bb5d1a-9bcf-4784-8471-354d55205c8a"
      },
      "execution_count": null,
      "outputs": [
        {
          "output_type": "stream",
          "name": "stdout",
          "text": [
            "\n",
            "=== Tabel 5: Hasil Cluster Akhir ===\n",
            "                   Kode HS dan Deskripsi  Cluster Kategori\n",
            "0                    [01] Binatang hidup        0   Rendah\n",
            "1                      [02] Daging hewan        0   Rendah\n",
            "2      [03] Ikan, krustasea, dan moluska        0   Rendah\n",
            "3          [04] Susu, mentega, dan telur        0   Rendah\n",
            "4                     [05] Produk hewani        0   Rendah\n",
            "5      [06] Pohon hidup dan bunga potong        0   Rendah\n",
            "6                           [07] Sayuran        0   Rendah\n",
            "7                       [08] Buah-buahan        0   Rendah\n",
            "8      [09] Kopi, teh, dan rempah-rempah        0   Rendah\n",
            "9                          [10] Serealia        0   Rendah\n",
            "10               [11] Hasil penggilingan        0   Rendah\n",
            "11  [12] Biji dan buah mengandung minyak        0   Rendah\n",
            "12            [13] Lak, getah, dan damar        0   Rendah\n",
            "13             [14] Bahan anyaman nabati        0   Rendah\n",
            "14   [15] Lemak dan minyak hewani/nabati        2   Sedang\n"
          ]
        }
      ]
    },
    {
      "cell_type": "code",
      "source": [
        "import matplotlib.pyplot as plt\n",
        "import seaborn as sns\n",
        "\n",
        "# Visualisasi 2D hasil clustering\n",
        "sns.scatterplot(\n",
        "    x=data_scaled[:, 0],  # Nilai Ekspor\n",
        "    y=data_scaled[:, 1],  # Berat Ekspor\n",
        "    hue=kmeans.labels_,\n",
        "    palette='Set1'\n",
        ")\n",
        "plt.title('Visualisasi Clustering Ekspor')\n",
        "plt.xlabel('Nilai Ekspor (Standardized)')\n",
        "plt.ylabel('Berat Ekspor (Standardized)')\n",
        "plt.legend(title='Cluster')\n",
        "plt.grid(True)\n",
        "plt.show()"
      ],
      "metadata": {
        "colab": {
          "base_uri": "https://localhost:8080/",
          "height": 472
        },
        "id": "0BnSMiaI0nxZ",
        "outputId": "379b29f1-4b47-40f0-a33a-78a94f40f509"
      },
      "execution_count": null,
      "outputs": [
        {
          "output_type": "display_data",
          "data": {
            "text/plain": [
              "<Figure size 640x480 with 1 Axes>"
            ],
            "image/png": "[encoded data removed]"
          },
          "metadata": {}
        }
      ]
    },
    {
      "cell_type": "markdown",
      "source": [
        "Normalisasi Z-score"
      ],
      "metadata": {
        "id": "9OiJxwGrLwqh"
      }
    },
    {
      "cell_type": "code",
      "metadata": {
        "id": "e6bb29fc"
      },
      "source": [
        "import pandas as pd\n",
        "import numpy as np\n",
        "from sklearn.preprocessing import StandardScaler"
      ],
      "execution_count": null,
      "outputs": []
    },
    {
      "cell_type": "code",
      "source": [
        "# 1. Baca file Excel\n",
        "df = pd.read_excel(\"Data ekspor impor.xlsx\")"
      ],
      "metadata": {
        "id": "AdR3qHR60JkJ"
      },
      "execution_count": null,
      "outputs": []
    },
    {
      "cell_type": "code",
      "source": [
        "# 2. Kolom numerik\n",
        "kolom_numerik = ['Nilai Ekspor (USD)', 'Berat Ekspor (Kg)', 'Nilai Impor (USD)', 'Berat Impor (Kg)']"
      ],
      "metadata": {
        "id": "T4usywAH0Yvf"
      },
      "execution_count": null,
      "outputs": []
    },
    {
      "cell_type": "code",
      "source": [
        "# 3. Bersihkan data: ganti 0 jadi NaN, lalu isi dengan rata-rata\n",
        "df[kolom_numerik] = df[kolom_numerik].replace(0, np.nan)\n",
        "df[kolom_numerik] = df[kolom_numerik].fillna(df[kolom_numerik].mean())"
      ],
      "metadata": {
        "id": "LaV-wVMy0dqA"
      },
      "execution_count": null,
      "outputs": []
    },
    {
      "cell_type": "code",
      "source": [
        "# 4. Normalisasi Z-Score\n",
        "scaler = StandardScaler()\n",
        "data_scaled = scaler.fit_transform(df[kolom_numerik])"
      ],
      "metadata": {
        "id": "Ms_dxYlY0htA"
      },
      "execution_count": null,
      "outputs": []
    },
    {
      "cell_type": "code",
      "source": [
        "# 5. Buat DataFrame hasil normalisasi\n",
        "df_zscore = pd.DataFrame(data_scaled, columns=[\n",
        "    'Nilai Ekspor (Z)', 'Berat Ekspor (Z)', 'Nilai Impor (Z)', 'Berat Impor (Z)'\n",
        "])\n",
        "df_zscore.insert(0, 'Komoditas', df['Kode HS dan Deskripsi'])"
      ],
      "metadata": {
        "id": "fTgX6L760mS2"
      },
      "execution_count": null,
      "outputs": []
    },
    {
      "cell_type": "code",
      "source": [
        "# 6. Tampilkan 10 baris pertama hasil normalisasi\n",
        "pd.set_option('display.float_format', lambda x: f'{x:.2f}')\n",
        "print(df_zscore.head(10))"
      ],
      "metadata": {
        "colab": {
          "base_uri": "https://localhost:8080/"
        },
        "id": "M9_CaQU60tQy",
        "outputId": "87358c90-e262-476a-edb9-9d52653d8017"
      },
      "execution_count": null,
      "outputs": [
        {
          "output_type": "stream",
          "name": "stdout",
          "text": [
            "                           Komoditas  Nilai Ekspor (Z)  Berat Ekspor (Z)  \\\n",
            "0                [01] Binatang hidup             -0.41             -0.13   \n",
            "1                  [02] Daging hewan             -0.41             -0.13   \n",
            "2  [03] Ikan, krustasea, dan moluska              0.21             -0.11   \n",
            "3      [04] Susu, mentega, dan telur             -0.32             -0.13   \n",
            "4                 [05] Produk hewani             -0.40             -0.13   \n",
            "5  [06] Pohon hidup dan bunga potong             -0.41             -0.13   \n",
            "6                       [07] Sayuran             -0.40             -0.13   \n",
            "7                   [08] Buah-buahan             -0.19             -0.10   \n",
            "8  [09] Kopi, teh, dan rempah-rempah              0.10             -0.12   \n",
            "9                      [10] Serealia             -0.41             -0.13   \n",
            "\n",
            "   Nilai Impor (Z)  Berat Impor (Z)  \n",
            "0            -0.30            -0.25  \n",
            "1            -0.35            -0.26  \n",
            "2            -0.35            -0.26  \n",
            "3            -0.12            -0.21  \n",
            "4            -0.38            -0.26  \n",
            "5            -0.40            -0.27  \n",
            "6            -0.35            -0.24  \n",
            "7            -0.16            -0.18  \n",
            "8            -0.32            -0.25  \n",
            "9             0.33             1.34  \n"
          ]
        }
      ]
    },
    {
      "cell_type": "code",
      "source": [
        "from google.colab import files\n",
        "import pandas as pd\n",
        "\n",
        "# Save the DataFrame to an Excel file\n",
        "df_zscore.to_excel(\"Normalisasi_Zscore.xlsx\", index=False)\n",
        "\n",
        "# Download the file\n",
        "files.download(\"Normalisasi_Zscore.xlsx\")"
      ],
      "metadata": {
        "colab": {
          "base_uri": "https://localhost:8080/",
          "height": 17
        },
        "id": "7eEAOatA1G80",
        "outputId": "30ad78a7-64e2-4090-ba62-0e0fb3e34d5b"
      },
      "execution_count": null,
      "outputs": [
        {
          "output_type": "display_data",
          "data": {
            "text/plain": [
              "<IPython.core.display.Javascript object>"
            ],
            "application/javascript": [
              "\n",
              "    async function download(id, filename, size) {\n",
              "      if (!google.colab.kernel.accessAllowed) {\n",
              "        return;\n",
              "      }\n",
              "      const div = document.createElement('div');\n",
              "      const label = document.createElement('label');\n",
              "      label.textContent = `Downloading \"${filename}\": `;\n",
              "      div.appendChild(label);\n",
              "      const progress = document.createElement('progress');\n",
              "      progress.max = size;\n",
              "      div.appendChild(progress);\n",
              "      document.body.appendChild(div);\n",
              "\n",
              "      const buffers = [];\n",
              "      let downloaded = 0;\n",
              "\n",
              "      const channel = await google.colab.kernel.comms.open(id);\n",
              "      // Send a message to notify the kernel that we're ready.\n",
              "      channel.send({})\n",
              "\n",
              "      for await (const message of channel.messages) {\n",
              "        // Send a message to notify the kernel that we're ready.\n",
              "        channel.send({})\n",
              "        if (message.buffers) {\n",
              "          for (const buffer of message.buffers) {\n",
              "            buffers.push(buffer);\n",
              "            downloaded += buffer.byteLength;\n",
              "            progress.value = downloaded;\n",
              "          }\n",
              "        }\n",
              "      }\n",
              "      const blob = new Blob(buffers, {type: 'application/binary'});\n",
              "      const a = document.createElement('a');\n",
              "      a.href = window.URL.createObjectURL(blob);\n",
              "      a.download = filename;\n",
              "      div.appendChild(a);\n",
              "      a.click();\n",
              "      div.remove();\n",
              "    }\n",
              "  "
            ]
          },
          "metadata": {}
        },
        {
          "output_type": "display_data",
          "data": {
            "text/plain": [
              "<IPython.core.display.Javascript object>"
            ],
            "application/javascript": [
              "download(\"download_d800d912-51fb-47cc-877c-8839daeac7c9\", \"Normalisasi_Zscore.xlsx\", 12508)"
            ]
          },
          "metadata": {}
        }
      ]
    },
    {
      "cell_type": "markdown",
      "source": [],
      "metadata": {
        "id": "-Mrn2uks1RbS"
      }
    },
    {
      "cell_type": "markdown",
      "source": [],
      "metadata": {
        "id": "SB-ZFDRy1RXf"
      }
    }
  ]
}